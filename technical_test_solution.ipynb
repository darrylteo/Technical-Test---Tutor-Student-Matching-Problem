{
 "cells": [
  {
   "cell_type": "markdown",
   "id": "b758a7c6",
   "metadata": {},
   "source": [
    "# Tutor-Student Matching Problem --- Bipartite Matching with One Sided Preferences\n",
    "\n",
    "The exact problem statement is redacted for privacy reasons. However, the problem can be summarized as follows:\n",
    "- We have a set of tutors, each with a preferred center and an upper bound on the number of students they can handle.\n",
    "- A set of new students, and a set of existing students. All students are associated with a center. Existing students are associated with a tutor.\n",
    "- Some students have constraints on which tutors they can be assigned to based on their tutoring needs.\n",
    "\n",
    "Assumptions:\n",
    "- For all students, changing of centers is not allowed.\n",
    "- For existing students, changing of tutors is not allowed. Exceptions are granted for students that are matched wrongly based on tutoring needs.\n",
    "- A feasible assignment exists, that is, the number of students does not exceed the total capacity of tutors, for both normal and extensive teaching needs.\n",
    "- Tutors and students do not have preferences over each other, except for the tutoring needs constraints.\n",
    "- Existing students that are inactive, do not affect the decision making.\n",
    "- Tutors can teach at multiple centers.\n",
    "\n",
    "The problem can be modeled as a bipartite graph where new students are to be matched to tutors under certain objectives and constraints. The objectives and constraints will be described in detail in later sections.\n"
   ]
  },
  {
   "cell_type": "markdown",
   "id": "1b399eb3",
   "metadata": {},
   "source": [
    "## 1. Prepare imports and data"
   ]
  },
  {
   "cell_type": "code",
   "execution_count": 138,
   "id": "19b7cc64",
   "metadata": {},
   "outputs": [],
   "source": [
    "import pandas as pd\n",
    "import numpy as np\n",
    "from docplex.mp.model import Model\n",
    "import os\n",
    "from IPython.display import display\n",
    "\n",
    "# set wd\n",
    "notebook_path = os.path.dirname(os.path.abspath(\"__file__\"))\n",
    "os.chdir(notebook_path)\n",
    "# load data\n",
    "myfile = 'Interview small data.xlsx'\n",
    "new_students = pd.read_excel(open(myfile, 'rb'), sheet_name='New Students')\n",
    "existing_students = pd.read_excel(open(myfile, 'rb'), sheet_name='Existing Students')\n",
    "tutors = pd.read_excel(open(myfile, 'rb'), sheet_name='Tutor Information')"
   ]
  },
  {
   "cell_type": "markdown",
   "id": "87dda5fa",
   "metadata": {},
   "source": [
    "## 2. Data validation"
   ]
  },
  {
   "cell_type": "code",
   "execution_count": 139,
   "id": "82e50c2a",
   "metadata": {},
   "outputs": [
    {
     "name": "stdout",
     "output_type": "stream",
     "text": [
      "Data preview:\n",
      "New students:\n"
     ]
    },
    {
     "data": {
      "application/vnd.microsoft.datawrangler.viewer.v0+json": {
       "columns": [
        {
         "name": "index",
         "rawType": "int64",
         "type": "integer"
        },
        {
         "name": "studentId",
         "rawType": "object",
         "type": "string"
        },
        {
         "name": "tutoringNeed",
         "rawType": "object",
         "type": "string"
        },
        {
         "name": "tuitionCentre",
         "rawType": "object",
         "type": "string"
        }
       ],
       "ref": "3efb0061-66b7-4f24-9122-1e6b0e776ca0",
       "rows": [
        [
         "0",
         "S0001",
         "Normal",
         "East"
        ],
        [
         "1",
         "S0002",
         "Normal",
         "West"
        ],
        [
         "2",
         "S0003",
         "Normal",
         "Central"
        ],
        [
         "3",
         "S0004",
         "Normal",
         "East"
        ],
        [
         "4",
         "S0005",
         "Normal",
         "Central"
        ]
       ],
       "shape": {
        "columns": 3,
        "rows": 5
       }
      },
      "text/html": [
       "<div>\n",
       "<style scoped>\n",
       "    .dataframe tbody tr th:only-of-type {\n",
       "        vertical-align: middle;\n",
       "    }\n",
       "\n",
       "    .dataframe tbody tr th {\n",
       "        vertical-align: top;\n",
       "    }\n",
       "\n",
       "    .dataframe thead th {\n",
       "        text-align: right;\n",
       "    }\n",
       "</style>\n",
       "<table border=\"1\" class=\"dataframe\">\n",
       "  <thead>\n",
       "    <tr style=\"text-align: right;\">\n",
       "      <th></th>\n",
       "      <th>studentId</th>\n",
       "      <th>tutoringNeed</th>\n",
       "      <th>tuitionCentre</th>\n",
       "    </tr>\n",
       "  </thead>\n",
       "  <tbody>\n",
       "    <tr>\n",
       "      <th>0</th>\n",
       "      <td>S0001</td>\n",
       "      <td>Normal</td>\n",
       "      <td>East</td>\n",
       "    </tr>\n",
       "    <tr>\n",
       "      <th>1</th>\n",
       "      <td>S0002</td>\n",
       "      <td>Normal</td>\n",
       "      <td>West</td>\n",
       "    </tr>\n",
       "    <tr>\n",
       "      <th>2</th>\n",
       "      <td>S0003</td>\n",
       "      <td>Normal</td>\n",
       "      <td>Central</td>\n",
       "    </tr>\n",
       "    <tr>\n",
       "      <th>3</th>\n",
       "      <td>S0004</td>\n",
       "      <td>Normal</td>\n",
       "      <td>East</td>\n",
       "    </tr>\n",
       "    <tr>\n",
       "      <th>4</th>\n",
       "      <td>S0005</td>\n",
       "      <td>Normal</td>\n",
       "      <td>Central</td>\n",
       "    </tr>\n",
       "  </tbody>\n",
       "</table>\n",
       "</div>"
      ],
      "text/plain": [
       "  studentId tutoringNeed tuitionCentre\n",
       "0     S0001       Normal          East\n",
       "1     S0002       Normal          West\n",
       "2     S0003       Normal       Central\n",
       "3     S0004       Normal          East\n",
       "4     S0005       Normal       Central"
      ]
     },
     "metadata": {},
     "output_type": "display_data"
    },
    {
     "name": "stdout",
     "output_type": "stream",
     "text": [
      "Existing students:\n"
     ]
    },
    {
     "data": {
      "application/vnd.microsoft.datawrangler.viewer.v0+json": {
       "columns": [
        {
         "name": "index",
         "rawType": "int64",
         "type": "integer"
        },
        {
         "name": "tutorId",
         "rawType": "object",
         "type": "string"
        },
        {
         "name": "studentId",
         "rawType": "object",
         "type": "string"
        },
        {
         "name": "tutoringNeed",
         "rawType": "object",
         "type": "string"
        },
        {
         "name": "tuitionCentre",
         "rawType": "object",
         "type": "string"
        },
        {
         "name": "active",
         "rawType": "bool",
         "type": "boolean"
        }
       ],
       "ref": "55dc0755-c0e8-4cdc-ad3f-c9443dfcfd9c",
       "rows": [
        [
         "0",
         "A001",
         "S0021",
         "Normal",
         "East",
         "False"
        ],
        [
         "1",
         "A001",
         "S0022",
         "Normal",
         "North",
         "False"
        ],
        [
         "2",
         "A001",
         "S0023",
         "Extensive",
         "East",
         "False"
        ],
        [
         "3",
         "A001",
         "S0024",
         "Extensive",
         "East",
         "False"
        ],
        [
         "4",
         "A001",
         "S0025",
         "Normal",
         "North",
         "False"
        ]
       ],
       "shape": {
        "columns": 5,
        "rows": 5
       }
      },
      "text/html": [
       "<div>\n",
       "<style scoped>\n",
       "    .dataframe tbody tr th:only-of-type {\n",
       "        vertical-align: middle;\n",
       "    }\n",
       "\n",
       "    .dataframe tbody tr th {\n",
       "        vertical-align: top;\n",
       "    }\n",
       "\n",
       "    .dataframe thead th {\n",
       "        text-align: right;\n",
       "    }\n",
       "</style>\n",
       "<table border=\"1\" class=\"dataframe\">\n",
       "  <thead>\n",
       "    <tr style=\"text-align: right;\">\n",
       "      <th></th>\n",
       "      <th>tutorId</th>\n",
       "      <th>studentId</th>\n",
       "      <th>tutoringNeed</th>\n",
       "      <th>tuitionCentre</th>\n",
       "      <th>active</th>\n",
       "    </tr>\n",
       "  </thead>\n",
       "  <tbody>\n",
       "    <tr>\n",
       "      <th>0</th>\n",
       "      <td>A001</td>\n",
       "      <td>S0021</td>\n",
       "      <td>Normal</td>\n",
       "      <td>East</td>\n",
       "      <td>False</td>\n",
       "    </tr>\n",
       "    <tr>\n",
       "      <th>1</th>\n",
       "      <td>A001</td>\n",
       "      <td>S0022</td>\n",
       "      <td>Normal</td>\n",
       "      <td>North</td>\n",
       "      <td>False</td>\n",
       "    </tr>\n",
       "    <tr>\n",
       "      <th>2</th>\n",
       "      <td>A001</td>\n",
       "      <td>S0023</td>\n",
       "      <td>Extensive</td>\n",
       "      <td>East</td>\n",
       "      <td>False</td>\n",
       "    </tr>\n",
       "    <tr>\n",
       "      <th>3</th>\n",
       "      <td>A001</td>\n",
       "      <td>S0024</td>\n",
       "      <td>Extensive</td>\n",
       "      <td>East</td>\n",
       "      <td>False</td>\n",
       "    </tr>\n",
       "    <tr>\n",
       "      <th>4</th>\n",
       "      <td>A001</td>\n",
       "      <td>S0025</td>\n",
       "      <td>Normal</td>\n",
       "      <td>North</td>\n",
       "      <td>False</td>\n",
       "    </tr>\n",
       "  </tbody>\n",
       "</table>\n",
       "</div>"
      ],
      "text/plain": [
       "  tutorId studentId tutoringNeed tuitionCentre  active\n",
       "0    A001     S0021       Normal          East   False\n",
       "1    A001     S0022       Normal         North   False\n",
       "2    A001     S0023    Extensive          East   False\n",
       "3    A001     S0024    Extensive          East   False\n",
       "4    A001     S0025       Normal         North   False"
      ]
     },
     "metadata": {},
     "output_type": "display_data"
    },
    {
     "name": "stdout",
     "output_type": "stream",
     "text": [
      "Tutors:\n"
     ]
    },
    {
     "data": {
      "application/vnd.microsoft.datawrangler.viewer.v0+json": {
       "columns": [
        {
         "name": "index",
         "rawType": "int64",
         "type": "integer"
        },
        {
         "name": "tutorId",
         "rawType": "object",
         "type": "string"
        },
        {
         "name": "tutoringSkills",
         "rawType": "object",
         "type": "string"
        },
        {
         "name": "preferredCentre1",
         "rawType": "object",
         "type": "string"
        },
        {
         "name": "preferredCentre2",
         "rawType": "object",
         "type": "string"
        },
        {
         "name": "maxOverallCapacity",
         "rawType": "int64",
         "type": "integer"
        }
       ],
       "ref": "a2f239c3-e9e9-4978-bef8-1cd14f67397f",
       "rows": [
        [
         "0",
         "A001",
         "Extensive",
         "East",
         "North",
         "8"
        ],
        [
         "1",
         "A002",
         "Normal",
         "North",
         "East",
         "5"
        ],
        [
         "2",
         "A003",
         "Normal",
         "West",
         "North",
         "5"
        ],
        [
         "3",
         "A004",
         "Normal",
         "North",
         "East",
         "3"
        ],
        [
         "4",
         "A005",
         "Normal",
         "North",
         "Central",
         "6"
        ]
       ],
       "shape": {
        "columns": 5,
        "rows": 5
       }
      },
      "text/html": [
       "<div>\n",
       "<style scoped>\n",
       "    .dataframe tbody tr th:only-of-type {\n",
       "        vertical-align: middle;\n",
       "    }\n",
       "\n",
       "    .dataframe tbody tr th {\n",
       "        vertical-align: top;\n",
       "    }\n",
       "\n",
       "    .dataframe thead th {\n",
       "        text-align: right;\n",
       "    }\n",
       "</style>\n",
       "<table border=\"1\" class=\"dataframe\">\n",
       "  <thead>\n",
       "    <tr style=\"text-align: right;\">\n",
       "      <th></th>\n",
       "      <th>tutorId</th>\n",
       "      <th>tutoringSkills</th>\n",
       "      <th>preferredCentre1</th>\n",
       "      <th>preferredCentre2</th>\n",
       "      <th>maxOverallCapacity</th>\n",
       "    </tr>\n",
       "  </thead>\n",
       "  <tbody>\n",
       "    <tr>\n",
       "      <th>0</th>\n",
       "      <td>A001</td>\n",
       "      <td>Extensive</td>\n",
       "      <td>East</td>\n",
       "      <td>North</td>\n",
       "      <td>8</td>\n",
       "    </tr>\n",
       "    <tr>\n",
       "      <th>1</th>\n",
       "      <td>A002</td>\n",
       "      <td>Normal</td>\n",
       "      <td>North</td>\n",
       "      <td>East</td>\n",
       "      <td>5</td>\n",
       "    </tr>\n",
       "    <tr>\n",
       "      <th>2</th>\n",
       "      <td>A003</td>\n",
       "      <td>Normal</td>\n",
       "      <td>West</td>\n",
       "      <td>North</td>\n",
       "      <td>5</td>\n",
       "    </tr>\n",
       "    <tr>\n",
       "      <th>3</th>\n",
       "      <td>A004</td>\n",
       "      <td>Normal</td>\n",
       "      <td>North</td>\n",
       "      <td>East</td>\n",
       "      <td>3</td>\n",
       "    </tr>\n",
       "    <tr>\n",
       "      <th>4</th>\n",
       "      <td>A005</td>\n",
       "      <td>Normal</td>\n",
       "      <td>North</td>\n",
       "      <td>Central</td>\n",
       "      <td>6</td>\n",
       "    </tr>\n",
       "  </tbody>\n",
       "</table>\n",
       "</div>"
      ],
      "text/plain": [
       "  tutorId tutoringSkills preferredCentre1 preferredCentre2  maxOverallCapacity\n",
       "0    A001      Extensive             East            North                   8\n",
       "1    A002         Normal            North             East                   5\n",
       "2    A003         Normal             West            North                   5\n",
       "3    A004         Normal            North             East                   3\n",
       "4    A005         Normal            North          Central                   6"
      ]
     },
     "metadata": {},
     "output_type": "display_data"
    },
    {
     "name": "stdout",
     "output_type": "stream",
     "text": [
      "Note that new students are assigned smaller IDs than existing students.\n",
      "This means that existing students will always have their IDs changed/incremented every time new students are added.\n"
     ]
    }
   ],
   "source": [
    "# view data\n",
    "print(\"Data preview:\")\n",
    "print(\"New students:\")\n",
    "display(new_students.head())\n",
    "print(\"Existing students:\")\n",
    "display(existing_students.head())\n",
    "print(\"Tutors:\")\n",
    "display(tutors.head())\n",
    "\n",
    "# comments\n",
    "print(\"Note that new students are assigned smaller IDs than existing students.\\nThis means that existing students will always have their IDs changed/incremented every time new students are added.\")\n",
    "\n",
    "# misc\n",
    "# print(\"New students columns:\", new_students.columns.tolist())\n",
    "# print(\"Existing students columns:\", existing_students.columns.tolist())\n",
    "# print(\"Tutors columns:\", tutors.columns.tolist())\n",
    "# New students columns: ['studentId', 'tutoringNeed', 'tuitionCentre']\n",
    "# Existing students columns: ['tutorId', 'studentId', 'tutoringNeed', 'tuitionCentre', 'active']\n",
    "# Tutors columns: ['tutorId', 'tutoringSkills', 'preferredCentre1', 'preferredCentre2', 'maxOverallCapacity']"
   ]
  },
  {
   "cell_type": "markdown",
   "id": "07d37303",
   "metadata": {},
   "source": [
    "### 2.1. Quick validatation"
   ]
  },
  {
   "cell_type": "code",
   "execution_count": 140,
   "id": "e9cdcaf3",
   "metadata": {},
   "outputs": [
    {
     "name": "stdout",
     "output_type": "stream",
     "text": [
      "Inactive existing students will be removed.\n",
      "\n",
      "Missing data check:\n",
      "new students:  0\n",
      "existing students:  0\n",
      "tutors:  0\n",
      "\n",
      "\n",
      "Duplicates check:\n",
      "new students: 0\n",
      "existing students: 0\n",
      "tutors: 0\n",
      "\n",
      "\n",
      "Existing students' tutor check:\n",
      "All existing students have valid tutors.\n",
      "\n",
      "\n",
      "Capacity check:\n",
      "number of tutors: 10\n",
      "tutors capacity: 57\n",
      "existing students count: 12\n",
      "new students count: 20\n",
      "Capacity is sufficient.\n",
      "\n",
      "\n",
      "Tutor individual capacity check (based on existing students):\n",
      "All tutors (individually) are within their capacity limits, based on existing students.\n"
     ]
    }
   ],
   "source": [
    "# can remove existing students who are inactive\n",
    "print(\"Inactive existing students will be removed.\\n\")\n",
    "existing_students = existing_students[existing_students['active']==1]\n",
    "\n",
    "# check missing data\n",
    "print(\"Missing data check:\")\n",
    "print(\"new students: \", new_students.isnull().sum().sum())\n",
    "print(\"existing students: \", existing_students.isnull().sum().sum())\n",
    "print(\"tutors: \", tutors.isnull().sum().sum())\n",
    "print(\"\\n\")\n",
    "# check duplicates\n",
    "print(\"Duplicates check:\")\n",
    "print(\"new students:\", new_students.duplicated().sum())\n",
    "print(\"existing students:\", existing_students.duplicated().sum())\n",
    "print(\"tutors:\", tutors.duplicated().sum())\n",
    "print(\"\\n\")\n",
    "\n",
    "# check that the tutor of existing students exists in tutors\n",
    "print(\"Existing students' tutor check:\")\n",
    "tutor_ids = set(tutors['tutorId'])\n",
    "existing_student_tutor_ids = set(existing_students['tutorId'])\n",
    "if existing_student_tutor_ids.issubset(tutor_ids):\n",
    "    print(\"All existing students have valid tutors.\")\n",
    "else:\n",
    "    print(\"Warning: Some existing students have tutors not listed in the tutors data.\")\n",
    "print(\"\\n\")\n",
    "\n",
    "# check sum of max capacity of tutors >= number of new students + existing active students\n",
    "print(\"Capacity check:\")\n",
    "numtut = tutors.shape[0]\n",
    "tutcap = tutors['maxOverallCapacity'].sum()\n",
    "excap = existing_students.shape[0]\n",
    "newcap = new_students.shape[0]\n",
    "print(\"number of tutors:\", numtut)\n",
    "print(\"tutors capacity:\", tutcap)\n",
    "print(\"existing students count:\", excap)\n",
    "print(\"new students count:\", newcap)\n",
    "if tutcap >= excap + newcap:\n",
    "    print(\"Capacity is sufficient.\")\n",
    "else:\n",
    "    print(\"No feasible solution possible: insufficient capacity. Please check data.\")\n",
    "print(\"\\n\")\n",
    "\n",
    "# tutor capacity check\n",
    "print(\"Tutor individual capacity check (based on existing students):\")\n",
    "tutor_capacity = tutors.set_index('tutorId')['maxOverallCapacity'].to_dict()\n",
    "existing_student_count = existing_students.groupby('tutorId').size().to_dict()\n",
    "ok = True\n",
    "for tutor, count in existing_student_count.items():\n",
    "    if count > tutor_capacity[tutor]:\n",
    "        print(f\"Warning: Tutor {tutor} is over capacity with {count} existing students.\")\n",
    "        ok = False\n",
    "if ok:\n",
    "    print(\"All tutors (individually) are within their capacity limits, based on existing students.\")"
   ]
  },
  {
   "cell_type": "markdown",
   "id": "3051ca86",
   "metadata": {},
   "source": [
    "### 2.2. Further validation based on tutoring needs"
   ]
  },
  {
   "cell_type": "code",
   "execution_count": 141,
   "id": "bf301822",
   "metadata": {},
   "outputs": [
    {
     "name": "stdout",
     "output_type": "stream",
     "text": [
      "Existing students' tutoring needs check:\n",
      "Number of existing students who require extensive tutoring but are matched with a normal tutoringSkills tutor: 2\n",
      "2 existing students will be treated as new students for the purpose of matching.\n",
      "\n",
      "\n",
      "Extensive tutor capacity check (based on existing and new students):\n",
      "All extensive tutors (individually and collectively) are within their capacity limits, based on existing and new students.\n"
     ]
    }
   ],
   "source": [
    "# check that existing students are matched to a tutor that meets their tutoring needs\n",
    "existing_students_needs = existing_students.merge(tutors[['tutorId', 'tutoringSkills']], on='tutorId', how='left')\n",
    "mismatch = existing_students_needs[~existing_students_needs.apply(lambda row: row['tutoringNeed'] == row['tutoringSkills'], axis=1)]\n",
    "print(\"Existing students' tutoring needs check:\")\n",
    "print(f\"Number of existing students who require extensive tutoring but are matched with a normal tutoringSkills tutor: {mismatch.shape[0]}\")\n",
    "print(f\"{mismatch.shape[0]} existing students will be treated as new students for the purpose of matching.\")\n",
    "# remove these students from existing students to new students\n",
    "existing_students = existing_students[existing_students['studentId'].isin(mismatch['studentId'])==False]\n",
    "new_students = pd.concat([new_students, mismatch.drop(columns=['active', 'tutorId', 'tutoringSkills'])], ignore_index=True)\n",
    "print(\"\\n\")\n",
    "\n",
    "# check that no \"extensive\" tutor is overloaded\n",
    "print(\"Extensive tutor capacity check (based on existing and new students):\")\n",
    "ok = True\n",
    "# individual check\n",
    "extensive_tutors = tutors[tutors['tutoringSkills'] == 'Extensive']\n",
    "for tutor in extensive_tutors['tutorId']:\n",
    "    assigned_students = existing_students[existing_students['tutorId'] == tutor]\n",
    "    if assigned_students.shape[0] > extensive_tutors[extensive_tutors['tutorId'] == tutor]['maxOverallCapacity'].values[0]:\n",
    "        print(f\"Warning: Tutor {tutor} is overloaded with {assigned_students.shape[0]} students.\")\n",
    "        ok = False\n",
    "# collective check\n",
    "extensive_tutor_capacity = extensive_tutors['maxOverallCapacity'].sum()\n",
    "existing_extensive_students = existing_students[existing_students['tutoringNeed'] == 'Extensive'].shape[0]\n",
    "new_extensive_students = new_students[new_students['tutoringNeed'] == 'Extensive'].shape[0]\n",
    "if extensive_tutor_capacity < existing_extensive_students + new_extensive_students:\n",
    "    print(\"No feasible solution possible: insufficient extensive tutor capacity. Please check data.\")\n",
    "    ok = False\n",
    "if ok:\n",
    "    print(\"All extensive tutors (individually and collectively) are within their capacity limits, based on existing and new students.\")"
   ]
  },
  {
   "cell_type": "markdown",
   "id": "4b557d59",
   "metadata": {},
   "source": [
    "## 3. Mathematical formulation"
   ]
  },
  {
   "cell_type": "markdown",
   "id": "ca3d7bbb",
   "metadata": {},
   "source": [
    "We define the following mathematical formulation for the problem.\n",
    "\n",
    "Parameters:\n",
    "- Let $E$ be the set of existing students.\n",
    "- Let $N$ be the set of new students.\n",
    "- Let $T$ be the set of tutors.\n",
    "- Let $T_{ext}$ be the set of tutors that can handle extensive tutoring needs.\n",
    "- Let $N_{ext}$ be the set of new students that require extensive tutoring needs.\n",
    "- Let $cap_t$ be the capacity of tutor $t$.\n",
    "- Let $y_{te}$ be a constant that is 1 if tutor $t$ is assigned to existing student $e$, and 0 otherwise.\n",
    "- Let $c_{tn}$ be the coefficient for tutor $t$ to be assigned to new student $n$, based on the student's center and tutor's preferred center. We set $c_{tn} = 2$ if it is the tutor's first choice of center, $c_{tn} = 1$ if it is the tutor's second choice of center, and $c_{tn} = 0$ otherwise.\n",
    "\n",
    "Variables:\n",
    "- Let $x_{tn}$ be a binary variable that is 1 if tutor $t$ is assigned to new student $n$, and 0 otherwise.\n",
    "\n",
    "Constraints:\n",
    "- Each new student is assigned to exactly one tutor:\n",
    "   $$\\sum_{t \\in T} x_{tn} = 1 \\quad \\forall n \\in N$$\n",
    "- Each new student with extensive tutoring needs is assigned to a tutor that can handle extensive tutoring needs:\n",
    "   $$\\sum_{t \\in T_{ext}} x_{tn} = 1 \\quad \\forall n \\in N_{ext}$$\n",
    "- A tutor cannot exceed their maximum overall capacity:\n",
    "   $$\\sum_{n \\in N} x_{tn} + \\sum_{e \\in E} y_{te} \\leq cap_t \\quad \\forall t \\in T$$"
   ]
  },
  {
   "cell_type": "markdown",
   "id": "d673f172",
   "metadata": {},
   "source": [
    "### 3.1. Task (a)"
   ]
  },
  {
   "cell_type": "markdown",
   "id": "898b25ce",
   "metadata": {},
   "source": [
    "Problem statement:\n",
    "Minimize total number of tutors assigned while maximizing tutor’s preference on tuition centre.\n",
    "\n",
    "Objectives:\n",
    "- Minimize total number of tutors assigned to at least one new student or existing student:\n",
    "    $$\\min \\sum_{t \\in T} z_t, $$\n",
    "    where $z_t$ is a binary variable that is 1 if tutor $t$ is assigned to at least one new student or existing student, and 0 otherwise.\n",
    "- Maximize tutor's preference on tuition centre (for new students):\n",
    "    $$\\max \\sum_{t \\in T} \\sum_{n \\in N} c_{tn} x_{tn}.$$\n",
    "Objective function:\n",
    "- Combine the two objectives into a single objective function:\n",
    "    $$\\min \\sum_{t \\in T} z_t - \\alpha \\sum_{t \\in T} \\sum_{n \\in N} c_{tn} x_{tn},$$\n",
    "    where $\\alpha$ is a weighting factor to balance the two objectives. Range of values for first objective is $[0, |T|]$, while range of values for second objective is $[0, 2|S|]$. We set $\\alpha = \\frac{|T|}{2|S|}$ to balance the two objectives. Here, we set $\\alpha = \\frac{10}{64} = 0.15625$.\n",
    "\n",
    "Additional constraints:\n",
    "- Link $z_t$ with $x_{tn}$ and $y_{te}$:\n",
    "   $$M z_t \\geq \\sum_{n \\in N} x_{tn} + \\sum_{e \\in E} y_{te} \\quad \\forall t \\in T,$$\n",
    "   where $M$ is a sufficiently large constant, which we set to a value greater the sum of all tutor capacities (57). Here, we set $M = 100$."
   ]
  },
  {
   "cell_type": "markdown",
   "id": "427143fe",
   "metadata": {},
   "source": [
    "#### 3.1. Code for task (a)"
   ]
  },
  {
   "cell_type": "markdown",
   "id": "788fe7c8",
   "metadata": {},
   "source": [
    "##### 3.1.1. Prepare data for model"
   ]
  },
  {
   "cell_type": "code",
   "execution_count": 144,
   "id": "3a571de7",
   "metadata": {},
   "outputs": [
    {
     "name": "stdout",
     "output_type": "stream",
     "text": [
      "ctn preview:\n",
      "Both extensive:\n",
      "     t   n  c_tn  both_ext\n",
      "5    0   5     1         1\n",
      "10   0  10     0         1\n",
      "20   0  20     0         1\n",
      "21   0  21     0         1\n",
      "115  5   5     0         1\n",
      "\n",
      "\n",
      "c_tn > 0 (student at center that tutor likes):\n",
      "   t  n  c_tn  both_ext\n",
      "0  0  0     2         0\n",
      "3  0  3     2         0\n",
      "5  0  5     1         1\n",
      "6  0  6     2         0\n",
      "8  0  8     1         0\n"
     ]
    }
   ],
   "source": [
    "# create copy of tables we will need, and add column of index\n",
    "E = existing_students.copy().reset_index(drop=True).rename_axis('e').reset_index()\n",
    "N = new_students.copy().reset_index(drop=True).rename_axis('n').reset_index()\n",
    "T = tutors.copy().reset_index(drop=True).rename_axis('t').reset_index()\n",
    "\n",
    "# create minitable of centers and index\n",
    "ctrs = pd.DataFrame(pd.concat([new_students['tuitionCentre'], existing_students['tuitionCentre']]).unique(), columns=['tuitionCentre'])\n",
    "ctrs = ctrs.reset_index().rename(columns={'index': 'c'})\n",
    "\n",
    "# ctn: coefficient for tutor t to be assigned to new student n\n",
    "# also add col to mark a compatible student and tutor where both are extensive\n",
    "ctn = pd.merge(pd.merge(T.assign(key=1), N.assign(key=1), on='key').drop('key', axis=1),\n",
    "               ctrs.assign(key=1), on='tuitionCentre', how='left')\n",
    "ctn['c_tn'] = np.where(ctn['preferredCentre1'] == ctn['tuitionCentre'], 2,\n",
    "                       np.where(ctn['preferredCentre2'] == ctn['tuitionCentre'], 1, 0))\n",
    "ctn['both_ext'] = np.where((ctn['tutoringSkills'] == 'Extensive') & (ctn['tutoringNeed'] == 'Extensive'), 1, 0)\n",
    "ctn = ctn[['t', 'n', 'c_tn', 'both_ext']]\n",
    "both_ext_dict = {(row['t'], row['n']): 1 for _, row in ctn.iterrows() if row['both_ext'] == 1}\n",
    "c_tn_dict = ctn.set_index([\"t\", \"n\"])[\"c_tn\"].to_dict()\n",
    "\n",
    "# check some values\n",
    "print(\"ctn preview:\")\n",
    "print(\"Both extensive:\")\n",
    "print(ctn[ctn['both_ext'] == 1].head())\n",
    "print(\"\\n\")\n",
    "print(\"c_tn > 0 (student at center that tutor likes):\")\n",
    "print(ctn[ctn['c_tn'] > 0].head())"
   ]
  },
  {
   "cell_type": "markdown",
   "id": "7f3c71b5",
   "metadata": {},
   "source": [
    "#### 3.1.2. Build and solve model"
   ]
  },
  {
   "cell_type": "markdown",
   "id": "6fa40aeb",
   "metadata": {},
   "source": [
    "Constants/variables:"
   ]
  },
  {
   "cell_type": "code",
   "execution_count": 125,
   "id": "d6c7f30b",
   "metadata": {},
   "outputs": [],
   "source": [
    "model_a = Model(name=\"model_a\")\n",
    "# constants\n",
    "ALPHA = 0.15625\n",
    "M = 100\n",
    "# variables\n",
    "x = model_a.binary_var_dict(\n",
    "    [(row[\"t\"], row[\"n\"]) for _, row in ctn.iterrows()], name=\"x\"\n",
    ")\n",
    "y = {(row[\"t\"], row[\"e\"]): 1 for _, row in pd.merge(T, E, on=\"tutorId\").iterrows()}\n",
    "z = model_a.binary_var_dict([(row[\"t\"]) for _, row in T.iterrows()], name=\"z\")"
   ]
  },
  {
   "cell_type": "markdown",
   "id": "849ebbd8",
   "metadata": {},
   "source": [
    "Constraints:"
   ]
  },
  {
   "cell_type": "code",
   "execution_count": 126,
   "id": "95d06366",
   "metadata": {},
   "outputs": [],
   "source": [
    "# each new student is assigned to exactly one tutor\n",
    "for n in N[\"n\"]:\n",
    "    model_a.add_constraint(\n",
    "        model_a.sum(x[t, n] for t in T[\"t\"]) == 1, ctname=f\"assign_new_student_{n}\"\n",
    "    )\n",
    "\n",
    "# each new student that requires extensive tutoring is assigned to an extensive tutor\n",
    "for n in N[N[\"tutoringNeed\"] == \"Extensive\"][\"n\"]:\n",
    "    model_a.add_constraint(\n",
    "        model_a.sum(x[t, n] * both_ext_dict.get((t, n), 0) for t in T[\"t\"]) == 1,\n",
    "        ctname=f\"assign_extensive_new_student_{n}\",\n",
    "    )\n",
    "\n",
    "# each tutor does not exceed their capacity\n",
    "for _, row in T.iterrows():\n",
    "    t = row[\"t\"]\n",
    "    cap_t = row[\"maxOverallCapacity\"]\n",
    "    expr_n = (\n",
    "        model_a.sum(x[t, n] for n in N[\"n\"] if (t, n) in x) or 0\n",
    "    )  # new students assigned\n",
    "    expr_e = sum(y.get((t, e), 0) for e in E[\"e\"])  # fixed existing students\n",
    "    model_a.add_constraint(expr_n + expr_e <= cap_t, ctname=f\"tutor_capacity_{t}\")\n",
    "\n",
    "# additional constraint: link z_t with x_tn and y_te\n",
    "for _, row in T.iterrows():\n",
    "    t = row[\"t\"]\n",
    "    expr_n = (\n",
    "        model_a.sum(x[t, n] for n in N[\"n\"] if (t, n) in x) or 0\n",
    "    )  # new students assigned\n",
    "    expr_e = sum(y.get((t, e), 0) for e in E[\"e\"])  # fixed existing students\n",
    "    model_a.add_constraint(M * z[t] >= expr_n + expr_e, ctname=f\"link_z_{t}\")"
   ]
  },
  {
   "cell_type": "markdown",
   "id": "ac508177",
   "metadata": {},
   "source": [
    "Objective function and model solve:"
   ]
  },
  {
   "cell_type": "code",
   "execution_count": 137,
   "id": "16231557",
   "metadata": {},
   "outputs": [
    {
     "name": "stdout",
     "output_type": "stream",
     "text": [
      "Solution status: JobSolveStatus.OPTIMAL_SOLUTION\n",
      "Assigned tutor-student pairs:\n"
     ]
    },
    {
     "data": {
      "application/vnd.microsoft.datawrangler.viewer.v0+json": {
       "columns": [
        {
         "name": "index",
         "rawType": "int64",
         "type": "integer"
        },
        {
         "name": "t",
         "rawType": "int64",
         "type": "integer"
        },
        {
         "name": "n",
         "rawType": "int64",
         "type": "integer"
        },
        {
         "name": "tutorId",
         "rawType": "object",
         "type": "string"
        },
        {
         "name": "studentId",
         "rawType": "object",
         "type": "string"
        }
       ],
       "ref": "801ff678-3781-4f44-898f-d8a660533412",
       "rows": [
        [
         "0",
         "2",
         "1",
         "A003",
         "S0002"
        ],
        [
         "1",
         "2",
         "15",
         "A003",
         "S0016"
        ],
        [
         "2",
         "4",
         "8",
         "A005",
         "S0009"
        ],
        [
         "3",
         "4",
         "19",
         "A005",
         "S0020"
        ],
        [
         "4",
         "6",
         "0",
         "A007",
         "S0001"
        ],
        [
         "5",
         "6",
         "3",
         "A007",
         "S0004"
        ],
        [
         "6",
         "6",
         "6",
         "A007",
         "S0007"
        ],
        [
         "7",
         "6",
         "14",
         "A007",
         "S0015"
        ],
        [
         "8",
         "6",
         "16",
         "A007",
         "S0017"
        ],
        [
         "9",
         "7",
         "2",
         "A008",
         "S0003"
        ],
        [
         "10",
         "7",
         "4",
         "A008",
         "S0005"
        ],
        [
         "11",
         "7",
         "7",
         "A008",
         "S0008"
        ],
        [
         "12",
         "8",
         "5",
         "A009",
         "S0006"
        ],
        [
         "13",
         "8",
         "10",
         "A009",
         "S0011"
        ],
        [
         "14",
         "8",
         "20",
         "A009",
         "S0086"
        ],
        [
         "15",
         "8",
         "21",
         "A009",
         "S0093"
        ],
        [
         "16",
         "9",
         "9",
         "A010",
         "S0010"
        ],
        [
         "17",
         "9",
         "11",
         "A010",
         "S0012"
        ],
        [
         "18",
         "9",
         "12",
         "A010",
         "S0013"
        ],
        [
         "19",
         "9",
         "13",
         "A010",
         "S0014"
        ],
        [
         "20",
         "9",
         "17",
         "A010",
         "S0018"
        ],
        [
         "21",
         "9",
         "18",
         "A010",
         "S0019"
        ]
       ],
       "shape": {
        "columns": 4,
        "rows": 22
       }
      },
      "text/html": [
       "<div>\n",
       "<style scoped>\n",
       "    .dataframe tbody tr th:only-of-type {\n",
       "        vertical-align: middle;\n",
       "    }\n",
       "\n",
       "    .dataframe tbody tr th {\n",
       "        vertical-align: top;\n",
       "    }\n",
       "\n",
       "    .dataframe thead th {\n",
       "        text-align: right;\n",
       "    }\n",
       "</style>\n",
       "<table border=\"1\" class=\"dataframe\">\n",
       "  <thead>\n",
       "    <tr style=\"text-align: right;\">\n",
       "      <th></th>\n",
       "      <th>t</th>\n",
       "      <th>n</th>\n",
       "      <th>tutorId</th>\n",
       "      <th>studentId</th>\n",
       "    </tr>\n",
       "  </thead>\n",
       "  <tbody>\n",
       "    <tr>\n",
       "      <th>0</th>\n",
       "      <td>2</td>\n",
       "      <td>1</td>\n",
       "      <td>A003</td>\n",
       "      <td>S0002</td>\n",
       "    </tr>\n",
       "    <tr>\n",
       "      <th>1</th>\n",
       "      <td>2</td>\n",
       "      <td>15</td>\n",
       "      <td>A003</td>\n",
       "      <td>S0016</td>\n",
       "    </tr>\n",
       "    <tr>\n",
       "      <th>2</th>\n",
       "      <td>4</td>\n",
       "      <td>8</td>\n",
       "      <td>A005</td>\n",
       "      <td>S0009</td>\n",
       "    </tr>\n",
       "    <tr>\n",
       "      <th>3</th>\n",
       "      <td>4</td>\n",
       "      <td>19</td>\n",
       "      <td>A005</td>\n",
       "      <td>S0020</td>\n",
       "    </tr>\n",
       "    <tr>\n",
       "      <th>4</th>\n",
       "      <td>6</td>\n",
       "      <td>0</td>\n",
       "      <td>A007</td>\n",
       "      <td>S0001</td>\n",
       "    </tr>\n",
       "    <tr>\n",
       "      <th>5</th>\n",
       "      <td>6</td>\n",
       "      <td>3</td>\n",
       "      <td>A007</td>\n",
       "      <td>S0004</td>\n",
       "    </tr>\n",
       "    <tr>\n",
       "      <th>6</th>\n",
       "      <td>6</td>\n",
       "      <td>6</td>\n",
       "      <td>A007</td>\n",
       "      <td>S0007</td>\n",
       "    </tr>\n",
       "    <tr>\n",
       "      <th>7</th>\n",
       "      <td>6</td>\n",
       "      <td>14</td>\n",
       "      <td>A007</td>\n",
       "      <td>S0015</td>\n",
       "    </tr>\n",
       "    <tr>\n",
       "      <th>8</th>\n",
       "      <td>6</td>\n",
       "      <td>16</td>\n",
       "      <td>A007</td>\n",
       "      <td>S0017</td>\n",
       "    </tr>\n",
       "    <tr>\n",
       "      <th>9</th>\n",
       "      <td>7</td>\n",
       "      <td>2</td>\n",
       "      <td>A008</td>\n",
       "      <td>S0003</td>\n",
       "    </tr>\n",
       "    <tr>\n",
       "      <th>10</th>\n",
       "      <td>7</td>\n",
       "      <td>4</td>\n",
       "      <td>A008</td>\n",
       "      <td>S0005</td>\n",
       "    </tr>\n",
       "    <tr>\n",
       "      <th>11</th>\n",
       "      <td>7</td>\n",
       "      <td>7</td>\n",
       "      <td>A008</td>\n",
       "      <td>S0008</td>\n",
       "    </tr>\n",
       "    <tr>\n",
       "      <th>12</th>\n",
       "      <td>8</td>\n",
       "      <td>5</td>\n",
       "      <td>A009</td>\n",
       "      <td>S0006</td>\n",
       "    </tr>\n",
       "    <tr>\n",
       "      <th>13</th>\n",
       "      <td>8</td>\n",
       "      <td>10</td>\n",
       "      <td>A009</td>\n",
       "      <td>S0011</td>\n",
       "    </tr>\n",
       "    <tr>\n",
       "      <th>14</th>\n",
       "      <td>8</td>\n",
       "      <td>20</td>\n",
       "      <td>A009</td>\n",
       "      <td>S0086</td>\n",
       "    </tr>\n",
       "    <tr>\n",
       "      <th>15</th>\n",
       "      <td>8</td>\n",
       "      <td>21</td>\n",
       "      <td>A009</td>\n",
       "      <td>S0093</td>\n",
       "    </tr>\n",
       "    <tr>\n",
       "      <th>16</th>\n",
       "      <td>9</td>\n",
       "      <td>9</td>\n",
       "      <td>A010</td>\n",
       "      <td>S0010</td>\n",
       "    </tr>\n",
       "    <tr>\n",
       "      <th>17</th>\n",
       "      <td>9</td>\n",
       "      <td>11</td>\n",
       "      <td>A010</td>\n",
       "      <td>S0012</td>\n",
       "    </tr>\n",
       "    <tr>\n",
       "      <th>18</th>\n",
       "      <td>9</td>\n",
       "      <td>12</td>\n",
       "      <td>A010</td>\n",
       "      <td>S0013</td>\n",
       "    </tr>\n",
       "    <tr>\n",
       "      <th>19</th>\n",
       "      <td>9</td>\n",
       "      <td>13</td>\n",
       "      <td>A010</td>\n",
       "      <td>S0014</td>\n",
       "    </tr>\n",
       "    <tr>\n",
       "      <th>20</th>\n",
       "      <td>9</td>\n",
       "      <td>17</td>\n",
       "      <td>A010</td>\n",
       "      <td>S0018</td>\n",
       "    </tr>\n",
       "    <tr>\n",
       "      <th>21</th>\n",
       "      <td>9</td>\n",
       "      <td>18</td>\n",
       "      <td>A010</td>\n",
       "      <td>S0019</td>\n",
       "    </tr>\n",
       "  </tbody>\n",
       "</table>\n",
       "</div>"
      ],
      "text/plain": [
       "    t   n tutorId studentId\n",
       "0   2   1    A003     S0002\n",
       "1   2  15    A003     S0016\n",
       "2   4   8    A005     S0009\n",
       "3   4  19    A005     S0020\n",
       "4   6   0    A007     S0001\n",
       "5   6   3    A007     S0004\n",
       "6   6   6    A007     S0007\n",
       "7   6  14    A007     S0015\n",
       "8   6  16    A007     S0017\n",
       "9   7   2    A008     S0003\n",
       "10  7   4    A008     S0005\n",
       "11  7   7    A008     S0008\n",
       "12  8   5    A009     S0006\n",
       "13  8  10    A009     S0011\n",
       "14  8  20    A009     S0086\n",
       "15  8  21    A009     S0093\n",
       "16  9   9    A010     S0010\n",
       "17  9  11    A010     S0012\n",
       "18  9  12    A010     S0013\n",
       "19  9  13    A010     S0014\n",
       "20  9  17    A010     S0018\n",
       "21  9  18    A010     S0019"
      ]
     },
     "metadata": {},
     "output_type": "display_data"
    }
   ],
   "source": [
    "# $$\\min \\sum_{t \\in T} z_t - \\alpha \\sum_{t \\in T} \\sum_{n \\in N} c_{tn} x_{tn},$$\n",
    "model_a.minimize(\n",
    "    model_a.sum(z[t] for t in T[\"t\"])\n",
    "    - ALPHA * model_a.sum(x[t, n] * c_tn_dict.get((t, n), 0) for t, n in x)\n",
    ")\n",
    "\n",
    "# print(model_a.objective_expr) # always good to check\n",
    "# seems correct. i see that -0.312x_0_0 means tutor 0 assigned to new student 0, who is at tutor 0's preferredCentre1 since 2*0.15625 = 0.3125\n",
    "# and there is no x_0_1 since student 1 wants west, which is neither of tutor 0's preferred centres (coeff = 0)\n",
    "\n",
    "# solve\n",
    "solution = model_a.solve()\n",
    "if solution:\n",
    "    print(\"Solution status:\", model_a.get_solve_status())\n",
    "    # print(\"Objective value:\", model_a.objective_value) # doesn't explain much\n",
    "    # extract solution\n",
    "    assigned = []\n",
    "    for (t, n), var in x.items():\n",
    "        if var.solution_value == 1:\n",
    "            assigned.append((t, n))\n",
    "    assigned_df = pd.DataFrame(assigned, columns=[\"t\", \"n\"])\n",
    "    assigned_df = assigned_df.merge(T[[\"tutorId\", \"t\"]], on=\"t\", how=\"left\").merge(\n",
    "        N[[\"studentId\", \"n\"]], on=\"n\", how=\"left\"\n",
    "    )\n",
    "    print(\"Assigned tutor-student pairs:\")\n",
    "    display(assigned_df)\n",
    "else:\n",
    "    print(\"No solution found.\")"
   ]
  },
  {
   "cell_type": "markdown",
   "id": "2c5a93db",
   "metadata": {},
   "source": [
    "Analysis of results:"
   ]
  },
  {
   "cell_type": "code",
   "execution_count": 135,
   "id": "88e19814",
   "metadata": {},
   "outputs": [
    {
     "data": {
      "application/vnd.microsoft.datawrangler.viewer.v0+json": {
       "columns": [
        {
         "name": "index",
         "rawType": "int64",
         "type": "integer"
        },
        {
         "name": "tutorId",
         "rawType": "object",
         "type": "string"
        },
        {
         "name": "total_students",
         "rawType": "int64",
         "type": "integer"
        },
        {
         "name": "maxOverallCapacity",
         "rawType": "int64",
         "type": "integer"
        }
       ],
       "ref": "8e3f3717-c008-41d5-9615-ab038944f222",
       "rows": [
        [
         "0",
         "A003",
         "3",
         "5"
        ],
        [
         "1",
         "A005",
         "6",
         "6"
        ],
        [
         "2",
         "A007",
         "8",
         "8"
        ],
        [
         "3",
         "A008",
         "3",
         "5"
        ],
        [
         "4",
         "A009",
         "4",
         "4"
        ],
        [
         "5",
         "A010",
         "8",
         "8"
        ]
       ],
       "shape": {
        "columns": 3,
        "rows": 6
       }
      },
      "text/html": [
       "<div>\n",
       "<style scoped>\n",
       "    .dataframe tbody tr th:only-of-type {\n",
       "        vertical-align: middle;\n",
       "    }\n",
       "\n",
       "    .dataframe tbody tr th {\n",
       "        vertical-align: top;\n",
       "    }\n",
       "\n",
       "    .dataframe thead th {\n",
       "        text-align: right;\n",
       "    }\n",
       "</style>\n",
       "<table border=\"1\" class=\"dataframe\">\n",
       "  <thead>\n",
       "    <tr style=\"text-align: right;\">\n",
       "      <th></th>\n",
       "      <th>tutorId</th>\n",
       "      <th>total_students</th>\n",
       "      <th>maxOverallCapacity</th>\n",
       "    </tr>\n",
       "  </thead>\n",
       "  <tbody>\n",
       "    <tr>\n",
       "      <th>0</th>\n",
       "      <td>A003</td>\n",
       "      <td>3</td>\n",
       "      <td>5</td>\n",
       "    </tr>\n",
       "    <tr>\n",
       "      <th>1</th>\n",
       "      <td>A005</td>\n",
       "      <td>6</td>\n",
       "      <td>6</td>\n",
       "    </tr>\n",
       "    <tr>\n",
       "      <th>2</th>\n",
       "      <td>A007</td>\n",
       "      <td>8</td>\n",
       "      <td>8</td>\n",
       "    </tr>\n",
       "    <tr>\n",
       "      <th>3</th>\n",
       "      <td>A008</td>\n",
       "      <td>3</td>\n",
       "      <td>5</td>\n",
       "    </tr>\n",
       "    <tr>\n",
       "      <th>4</th>\n",
       "      <td>A009</td>\n",
       "      <td>4</td>\n",
       "      <td>4</td>\n",
       "    </tr>\n",
       "    <tr>\n",
       "      <th>5</th>\n",
       "      <td>A010</td>\n",
       "      <td>8</td>\n",
       "      <td>8</td>\n",
       "    </tr>\n",
       "  </tbody>\n",
       "</table>\n",
       "</div>"
      ],
      "text/plain": [
       "  tutorId  total_students  maxOverallCapacity\n",
       "0    A003               3                   5\n",
       "1    A005               6                   6\n",
       "2    A007               8                   8\n",
       "3    A008               3                   5\n",
       "4    A009               4                   4\n",
       "5    A010               8                   8"
      ]
     },
     "metadata": {},
     "output_type": "display_data"
    },
    {
     "name": "stdout",
     "output_type": "stream",
     "text": [
      "We have created assignments for 6 out of 10 tutors.\n",
      "\n",
      "Number of new students assigned based on tutor's preference:\n"
     ]
    },
    {
     "data": {
      "application/vnd.microsoft.datawrangler.viewer.v0+json": {
       "columns": [
        {
         "name": "index",
         "rawType": "int64",
         "type": "integer"
        },
        {
         "name": "tutorId",
         "rawType": "object",
         "type": "string"
        },
        {
         "name": "num_pref1_new",
         "rawType": "int64",
         "type": "integer"
        },
        {
         "name": "num_pref2_new",
         "rawType": "int64",
         "type": "integer"
        },
        {
         "name": "num_nonpref_new",
         "rawType": "int64",
         "type": "integer"
        }
       ],
       "ref": "344fe4c0-da51-4709-8728-dcad20cf6bc8",
       "rows": [
        [
         "0",
         "A003",
         "1",
         "1",
         "0"
        ],
        [
         "1",
         "A005",
         "2",
         "0",
         "0"
        ],
        [
         "2",
         "A007",
         "4",
         "1",
         "0"
        ],
        [
         "3",
         "A008",
         "3",
         "0",
         "0"
        ],
        [
         "4",
         "A009",
         "3",
         "1",
         "0"
        ],
        [
         "5",
         "A010",
         "5",
         "1",
         "0"
        ]
       ],
       "shape": {
        "columns": 4,
        "rows": 6
       }
      },
      "text/html": [
       "<div>\n",
       "<style scoped>\n",
       "    .dataframe tbody tr th:only-of-type {\n",
       "        vertical-align: middle;\n",
       "    }\n",
       "\n",
       "    .dataframe tbody tr th {\n",
       "        vertical-align: top;\n",
       "    }\n",
       "\n",
       "    .dataframe thead th {\n",
       "        text-align: right;\n",
       "    }\n",
       "</style>\n",
       "<table border=\"1\" class=\"dataframe\">\n",
       "  <thead>\n",
       "    <tr style=\"text-align: right;\">\n",
       "      <th></th>\n",
       "      <th>tutorId</th>\n",
       "      <th>num_pref1_new</th>\n",
       "      <th>num_pref2_new</th>\n",
       "      <th>num_nonpref_new</th>\n",
       "    </tr>\n",
       "  </thead>\n",
       "  <tbody>\n",
       "    <tr>\n",
       "      <th>0</th>\n",
       "      <td>A003</td>\n",
       "      <td>1</td>\n",
       "      <td>1</td>\n",
       "      <td>0</td>\n",
       "    </tr>\n",
       "    <tr>\n",
       "      <th>1</th>\n",
       "      <td>A005</td>\n",
       "      <td>2</td>\n",
       "      <td>0</td>\n",
       "      <td>0</td>\n",
       "    </tr>\n",
       "    <tr>\n",
       "      <th>2</th>\n",
       "      <td>A007</td>\n",
       "      <td>4</td>\n",
       "      <td>1</td>\n",
       "      <td>0</td>\n",
       "    </tr>\n",
       "    <tr>\n",
       "      <th>3</th>\n",
       "      <td>A008</td>\n",
       "      <td>3</td>\n",
       "      <td>0</td>\n",
       "      <td>0</td>\n",
       "    </tr>\n",
       "    <tr>\n",
       "      <th>4</th>\n",
       "      <td>A009</td>\n",
       "      <td>3</td>\n",
       "      <td>1</td>\n",
       "      <td>0</td>\n",
       "    </tr>\n",
       "    <tr>\n",
       "      <th>5</th>\n",
       "      <td>A010</td>\n",
       "      <td>5</td>\n",
       "      <td>1</td>\n",
       "      <td>0</td>\n",
       "    </tr>\n",
       "  </tbody>\n",
       "</table>\n",
       "</div>"
      ],
      "text/plain": [
       "  tutorId  num_pref1_new  num_pref2_new  num_nonpref_new\n",
       "0    A003              1              1                0\n",
       "1    A005              2              0                0\n",
       "2    A007              4              1                0\n",
       "3    A008              3              0                0\n",
       "4    A009              3              1                0\n",
       "5    A010              5              1                0"
      ]
     },
     "metadata": {},
     "output_type": "display_data"
    }
   ],
   "source": [
    "# how many students assigned to each tutor, including existing students\n",
    "tutor_assignments = assigned_df.groupby('tutorId').size().reset_index(name='num_assigned_students')\n",
    "tutor_assignments = tutor_assignments.merge(tutors[['tutorId', 'maxOverallCapacity']], on='tutorId', how='left')\n",
    "existing_df = existing_students.groupby('tutorId').size().reset_index(name='num_existing_students')\n",
    "tutor_summary = pd.merge(tutor_assignments, existing_df, on='tutorId', how='outer').fillna(0)\n",
    "tutor_summary['total_students'] = tutor_summary['num_assigned_students'] + tutor_summary['num_existing_students']\n",
    "tutor_summary['total_students'] = tutor_summary['total_students'].astype(int) # convert to int\n",
    "tutor_summary = tutor_summary[['tutorId', 'total_students', 'maxOverallCapacity']]\n",
    "display(tutor_summary)\n",
    "print(f\"We have created assignments for {tutor_summary.shape[0]} out of {tutors.shape[0]} tutors.\\n\")\n",
    "\n",
    "# add 3 columns to count how many pref1, pref2, non-pref students assigned to each tutor\n",
    "assigned_df_2 = assigned_df.merge(ctn[['t', 'n', 'c_tn']], on=['t', 'n'], how='left').copy()\n",
    "pref1_count = assigned_df_2[assigned_df_2['c_tn'] == 2].groupby('tutorId').size().reset_index(name='num_pref1_new')\n",
    "pref2_count = assigned_df_2[assigned_df_2['c_tn'] == 1].groupby('tutorId').size().reset_index(name='num_pref2_new')\n",
    "nonpref_count = assigned_df_2[assigned_df_2['c_tn'] == 0].groupby('tutorId').size().reset_index(name='num_nonpref_new')\n",
    "tutor_summary = tutor_summary.merge(pref1_count, on='tutorId', how='left').merge(pref2_count, on='tutorId', how='left').merge(nonpref_count, on='tutorId', how='left').fillna(0)\n",
    "tutor_summary['num_pref1_new'] = tutor_summary['num_pref1_new'].astype(int)\n",
    "tutor_summary['num_pref2_new'] = tutor_summary['num_pref2_new'].astype(int)\n",
    "tutor_summary['num_nonpref_new'] = tutor_summary['num_nonpref_new'].astype(int)\n",
    "tutor_summary = tutor_summary[['tutorId', 'num_pref1_new', 'num_pref2_new', 'num_nonpref_new']]\n",
    "print(\"Number of new students assigned based on tutor's preference:\")\n",
    "display(tutor_summary)"
   ]
  },
  {
   "cell_type": "markdown",
   "id": "a41c7ffa",
   "metadata": {},
   "source": [
    "### 3.2. Task (b)"
   ]
  },
  {
   "cell_type": "markdown",
   "id": "5b812bf7",
   "metadata": {},
   "source": [
    "Problem statement: Balance tutor’s workload while maximizing tutor’s preference on the tuition centre. \n",
    "\n",
    "Objectives:\n",
    "- Minimize the maximum number of students assigned to any tutor:\n",
    "    $$\\min \\max_{t \\in T} \\left( \\sum_{n \\in N} x_{tn} + \\sum_{e \\in E} y_{te} \\right) $$\n",
    "- Maximize tutor's preference on tuition centre (for new students):\n",
    "    $$\\max \\sum_{t \\in T} \\sum_{n \\in N} c_{tn} x_{tn}.$$\n",
    "Objective function:\n",
    "- Combine the two objectives into a single objective function:\n",
    "    $$\\min \\max_{t \\in T} \\left( \\sum_{n \\in N} x_{tn} + \\sum_{e in E} y_{te} \\right) - \\beta \\sum_{t \\in T} \\sum_{n \\in N} c_{tn} x_{tn},$$\n",
    "    where $\\beta$ is a weighting factor to balance the two objectives. Range of values for first objective is $[0, \\max_{t \\in T} cap_t]$, while range of values for second objective is $[0, 2|S|]$. We set $\\beta = \\frac{\\max_{t \\in T} cap_t}{2|S|}$ to balance the two objectives. Here, we set $\\beta = \\frac{8}{64} = 0.125$.\n",
    "    "
   ]
  },
  {
   "cell_type": "markdown",
   "id": "d4311247",
   "metadata": {},
   "source": [
    "#### 3.2. Code for task (b)"
   ]
  },
  {
   "cell_type": "markdown",
   "id": "1cec88d8",
   "metadata": {},
   "source": [
    "##### 3.2.1. Prepare data for model (similar to task (a))"
   ]
  },
  {
   "cell_type": "markdown",
   "id": "7f461eea",
   "metadata": {},
   "source": [
    "from (a) we had E, N, T, ctrs, ctn, both_ext_dict, c_tn_dict already defined\n",
    "quick recap what these are:\n",
    "- E: set of existing students\n",
    "- N: set of new students\n",
    "- T: set of tutors\n",
    "- ctrs: dictionary mapping student to their center\n",
    "- ctn: dictionary mapping (tutor, student) pair to coefficient based on tutor's preferred centers\n",
    "- both_ext_dict: dictionary mapping student to whether they require extensive tutoring needs\n",
    "- c_tn_dict: dictionary mapping (tutor, student) pair to whether tutor can handle student's extensive tutoring needs"
   ]
  },
  {
   "cell_type": "code",
   "execution_count": null,
   "id": "f248cde4",
   "metadata": {},
   "outputs": [],
   "source": [
    "# from (a) we had E, N, T, ctrs, ctn, both_ext_dict, c_tn_dict already defined\n"
   ]
  }
 ],
 "metadata": {
  "kernelspec": {
   "display_name": ".venv",
   "language": "python",
   "name": "python3"
  },
  "language_info": {
   "codemirror_mode": {
    "name": "ipython",
    "version": 3
   },
   "file_extension": ".py",
   "mimetype": "text/x-python",
   "name": "python",
   "nbconvert_exporter": "python",
   "pygments_lexer": "ipython3",
   "version": "3.10.4"
  }
 },
 "nbformat": 4,
 "nbformat_minor": 5
}
